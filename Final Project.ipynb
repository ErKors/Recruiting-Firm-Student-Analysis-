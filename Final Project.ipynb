{
 "cells": [
  {
   "cell_type": "code",
   "execution_count": 47,
   "id": "4ca6110b",
   "metadata": {},
   "outputs": [],
   "source": [
    "import numpy as np\n",
    "import pandas as pd\n",
    "import matplotlib.pyplot as plt\n",
    "import seaborn as sb"
   ]
  },
  {
   "cell_type": "code",
   "execution_count": 48,
   "id": "efb673fb",
   "metadata": {},
   "outputs": [],
   "source": [
    "#For reference:\n",
    "#sl_no\tSerial Number\n",
    "#gender\tGender (M/F)\n",
    "#ssc_p\tSecondary Education percentile\n",
    "#ssc_b\tBoard of Education\n",
    "#hsc_p\tHigher Secondary Education percentile\n",
    "#hsc_b\tBoard of Education- Central/ Others\n",
    "#hsc_s\tSpecialization in Higher Secondary Education\n",
    "#degree_p\tDegree Percentile\n",
    "#degree_t\tUnder Graduation(Degree type)\n",
    "#workex\tWork Experience\n",
    "#etest_p\tEmployability test percentile\n",
    "#specialisation\tArea of speciality \n",
    "#mba_p\tMBA percentile\n",
    "#Salary\tSalary of job offered\n",
    "#status\tplaced or nor placed (target variable)\n"
   ]
  },
  {
   "cell_type": "code",
   "execution_count": 49,
   "id": "63fec8c5",
   "metadata": {},
   "outputs": [],
   "source": [
    "###\n",
    "#            Question 1: Adjusting for NULL values\n",
    "###"
   ]
  },
  {
   "cell_type": "code",
   "execution_count": 50,
   "id": "1594c8ca",
   "metadata": {},
   "outputs": [
    {
     "name": "stdout",
     "output_type": "stream",
     "text": [
      "     sl_no gender  ssc_p    ssc_b  hsc_p    hsc_b     hsc_s  degree_p  \\\n",
      "3        4      M   56.0  Central   52.0  Central   Science     52.00   \n",
      "5        6      M   55.0   Others   49.8   Others   Science     67.25   \n",
      "6        7      F   46.0   Others   49.2   Others  Commerce     79.00   \n",
      "9       10      M   58.0  Central   70.0  Central  Commerce     61.00   \n",
      "11      12      M   69.6  Central   68.4  Central  Commerce     78.30   \n",
      "..     ...    ...    ...      ...    ...      ...       ...       ...   \n",
      "198    199      F   67.0  Central   70.0  Central  Commerce     65.00   \n",
      "201    202      M   54.2  Central   63.0   Others   Science     58.00   \n",
      "206    207      M   41.0  Central   42.0  Central   Science     60.00   \n",
      "208    209      F   43.0  Central   60.0   Others   Science     65.00   \n",
      "214    215      M   62.0  Central   58.0   Others   Science     53.00   \n",
      "\n",
      "      degree_t workex  etest_p specialisation  mba_p    salary      status  \n",
      "3     Sci&Tech     No    66.00         Mkt&HR  59.43       NaN  Not Placed  \n",
      "5     Sci&Tech    Yes    55.00        Mkt&Fin  51.58       NaN  Not Placed  \n",
      "6    Comm&Mgmt     No    74.28        Mkt&Fin  53.29       NaN  Not Placed  \n",
      "9    Comm&Mgmt     No    54.00        Mkt&Fin  52.21       NaN  Not Placed  \n",
      "11   Comm&Mgmt    Yes    60.00            NaN  63.70  250000.0      Placed  \n",
      "..         ...    ...      ...            ...    ...       ...         ...  \n",
      "198     Others     No    88.00         Mkt&HR  71.96       NaN  Not Placed  \n",
      "201  Comm&Mgmt     No    79.00         Mkt&HR  58.44       NaN  Not Placed  \n",
      "206  Comm&Mgmt     No    97.00        Mkt&Fin  53.39       NaN  Not Placed  \n",
      "208  Comm&Mgmt     No    92.66         Mkt&HR  62.92       NaN  Not Placed  \n",
      "214  Comm&Mgmt     No    89.00         Mkt&HR  60.22       NaN  Not Placed  \n",
      "\n",
      "[69 rows x 15 columns]\n",
      "sl_no : 0\n",
      "gender : 0\n",
      "ssc_p : 0\n",
      "ssc_b : 0\n",
      "hsc_p : 2\n",
      "hsc_b : 0\n",
      "hsc_s : 1\n",
      "degree_p : 0\n",
      "degree_t : 0\n",
      "workex : 0\n",
      "etest_p : 0\n",
      "specialisation : 1\n",
      "mba_p : 0\n",
      "salary : 67\n",
      "status : 0\n"
     ]
    }
   ],
   "source": [
    "df=pd.read_csv(\"Placement.csv\")\n",
    "\n",
    "#Overview of null values\n",
    "null=df.isnull().any(axis=1)\n",
    "print(df[null])\n",
    "\n",
    "#Null values per column\n",
    "for col in df.columns:\n",
    "    count=df[col].isna().sum()\n",
    "    print(col,':',count)"
   ]
  },
  {
   "cell_type": "code",
   "execution_count": 51,
   "id": "074909ba",
   "metadata": {},
   "outputs": [
    {
     "data": {
      "text/html": [
       "<div>\n",
       "<style scoped>\n",
       "    .dataframe tbody tr th:only-of-type {\n",
       "        vertical-align: middle;\n",
       "    }\n",
       "\n",
       "    .dataframe tbody tr th {\n",
       "        vertical-align: top;\n",
       "    }\n",
       "\n",
       "    .dataframe thead th {\n",
       "        text-align: right;\n",
       "    }\n",
       "</style>\n",
       "<table border=\"1\" class=\"dataframe\">\n",
       "  <thead>\n",
       "    <tr style=\"text-align: right;\">\n",
       "      <th></th>\n",
       "      <th>sl_no</th>\n",
       "      <th>gender</th>\n",
       "      <th>ssc_p</th>\n",
       "      <th>ssc_b</th>\n",
       "      <th>hsc_p</th>\n",
       "      <th>hsc_b</th>\n",
       "      <th>hsc_s</th>\n",
       "      <th>degree_p</th>\n",
       "      <th>degree_t</th>\n",
       "      <th>workex</th>\n",
       "      <th>etest_p</th>\n",
       "      <th>specialisation</th>\n",
       "      <th>mba_p</th>\n",
       "      <th>salary</th>\n",
       "      <th>status</th>\n",
       "    </tr>\n",
       "  </thead>\n",
       "  <tbody>\n",
       "  </tbody>\n",
       "</table>\n",
       "</div>"
      ],
      "text/plain": [
       "Empty DataFrame\n",
       "Columns: [sl_no, gender, ssc_p, ssc_b, hsc_p, hsc_b, hsc_s, degree_p, degree_t, workex, etest_p, specialisation, mba_p, salary, status]\n",
       "Index: []"
      ]
     },
     "execution_count": 51,
     "metadata": {},
     "output_type": "execute_result"
    }
   ],
   "source": [
    "#Lets start with the greatest number of nulls, the salary tab\n",
    "#I believe that the nulls are correlated with not being placed at a job,\n",
    "#lets test my theory\n",
    "\n",
    "df.loc[(df[\"salary\"].isnull()) & (df['status']=='Placed')]\n"
   ]
  },
  {
   "cell_type": "code",
   "execution_count": 52,
   "id": "130d22ff",
   "metadata": {},
   "outputs": [
    {
     "data": {
      "text/html": [
       "<div>\n",
       "<style scoped>\n",
       "    .dataframe tbody tr th:only-of-type {\n",
       "        vertical-align: middle;\n",
       "    }\n",
       "\n",
       "    .dataframe tbody tr th {\n",
       "        vertical-align: top;\n",
       "    }\n",
       "\n",
       "    .dataframe thead th {\n",
       "        text-align: right;\n",
       "    }\n",
       "</style>\n",
       "<table border=\"1\" class=\"dataframe\">\n",
       "  <thead>\n",
       "    <tr style=\"text-align: right;\">\n",
       "      <th></th>\n",
       "      <th>sl_no</th>\n",
       "      <th>gender</th>\n",
       "      <th>ssc_p</th>\n",
       "      <th>ssc_b</th>\n",
       "      <th>hsc_p</th>\n",
       "      <th>hsc_b</th>\n",
       "      <th>hsc_s</th>\n",
       "      <th>degree_p</th>\n",
       "      <th>degree_t</th>\n",
       "      <th>workex</th>\n",
       "      <th>etest_p</th>\n",
       "      <th>specialisation</th>\n",
       "      <th>mba_p</th>\n",
       "      <th>salary</th>\n",
       "      <th>status</th>\n",
       "    </tr>\n",
       "  </thead>\n",
       "  <tbody>\n",
       "    <tr>\n",
       "      <th>3</th>\n",
       "      <td>4</td>\n",
       "      <td>M</td>\n",
       "      <td>56.0</td>\n",
       "      <td>Central</td>\n",
       "      <td>52.0</td>\n",
       "      <td>Central</td>\n",
       "      <td>Science</td>\n",
       "      <td>52.00</td>\n",
       "      <td>Sci&amp;Tech</td>\n",
       "      <td>No</td>\n",
       "      <td>66.00</td>\n",
       "      <td>Mkt&amp;HR</td>\n",
       "      <td>59.43</td>\n",
       "      <td>0.0</td>\n",
       "      <td>Not Placed</td>\n",
       "    </tr>\n",
       "    <tr>\n",
       "      <th>5</th>\n",
       "      <td>6</td>\n",
       "      <td>M</td>\n",
       "      <td>55.0</td>\n",
       "      <td>Others</td>\n",
       "      <td>49.8</td>\n",
       "      <td>Others</td>\n",
       "      <td>Science</td>\n",
       "      <td>67.25</td>\n",
       "      <td>Sci&amp;Tech</td>\n",
       "      <td>Yes</td>\n",
       "      <td>55.00</td>\n",
       "      <td>Mkt&amp;Fin</td>\n",
       "      <td>51.58</td>\n",
       "      <td>0.0</td>\n",
       "      <td>Not Placed</td>\n",
       "    </tr>\n",
       "    <tr>\n",
       "      <th>6</th>\n",
       "      <td>7</td>\n",
       "      <td>F</td>\n",
       "      <td>46.0</td>\n",
       "      <td>Others</td>\n",
       "      <td>49.2</td>\n",
       "      <td>Others</td>\n",
       "      <td>Commerce</td>\n",
       "      <td>79.00</td>\n",
       "      <td>Comm&amp;Mgmt</td>\n",
       "      <td>No</td>\n",
       "      <td>74.28</td>\n",
       "      <td>Mkt&amp;Fin</td>\n",
       "      <td>53.29</td>\n",
       "      <td>0.0</td>\n",
       "      <td>Not Placed</td>\n",
       "    </tr>\n",
       "    <tr>\n",
       "      <th>9</th>\n",
       "      <td>10</td>\n",
       "      <td>M</td>\n",
       "      <td>58.0</td>\n",
       "      <td>Central</td>\n",
       "      <td>70.0</td>\n",
       "      <td>Central</td>\n",
       "      <td>Commerce</td>\n",
       "      <td>61.00</td>\n",
       "      <td>Comm&amp;Mgmt</td>\n",
       "      <td>No</td>\n",
       "      <td>54.00</td>\n",
       "      <td>Mkt&amp;Fin</td>\n",
       "      <td>52.21</td>\n",
       "      <td>0.0</td>\n",
       "      <td>Not Placed</td>\n",
       "    </tr>\n",
       "    <tr>\n",
       "      <th>12</th>\n",
       "      <td>13</td>\n",
       "      <td>F</td>\n",
       "      <td>47.0</td>\n",
       "      <td>Central</td>\n",
       "      <td>55.0</td>\n",
       "      <td>Others</td>\n",
       "      <td>Science</td>\n",
       "      <td>65.00</td>\n",
       "      <td>Comm&amp;Mgmt</td>\n",
       "      <td>No</td>\n",
       "      <td>62.00</td>\n",
       "      <td>Mkt&amp;HR</td>\n",
       "      <td>65.04</td>\n",
       "      <td>0.0</td>\n",
       "      <td>Not Placed</td>\n",
       "    </tr>\n",
       "    <tr>\n",
       "      <th>...</th>\n",
       "      <td>...</td>\n",
       "      <td>...</td>\n",
       "      <td>...</td>\n",
       "      <td>...</td>\n",
       "      <td>...</td>\n",
       "      <td>...</td>\n",
       "      <td>...</td>\n",
       "      <td>...</td>\n",
       "      <td>...</td>\n",
       "      <td>...</td>\n",
       "      <td>...</td>\n",
       "      <td>...</td>\n",
       "      <td>...</td>\n",
       "      <td>...</td>\n",
       "      <td>...</td>\n",
       "    </tr>\n",
       "    <tr>\n",
       "      <th>198</th>\n",
       "      <td>199</td>\n",
       "      <td>F</td>\n",
       "      <td>67.0</td>\n",
       "      <td>Central</td>\n",
       "      <td>70.0</td>\n",
       "      <td>Central</td>\n",
       "      <td>Commerce</td>\n",
       "      <td>65.00</td>\n",
       "      <td>Others</td>\n",
       "      <td>No</td>\n",
       "      <td>88.00</td>\n",
       "      <td>Mkt&amp;HR</td>\n",
       "      <td>71.96</td>\n",
       "      <td>0.0</td>\n",
       "      <td>Not Placed</td>\n",
       "    </tr>\n",
       "    <tr>\n",
       "      <th>201</th>\n",
       "      <td>202</td>\n",
       "      <td>M</td>\n",
       "      <td>54.2</td>\n",
       "      <td>Central</td>\n",
       "      <td>63.0</td>\n",
       "      <td>Others</td>\n",
       "      <td>Science</td>\n",
       "      <td>58.00</td>\n",
       "      <td>Comm&amp;Mgmt</td>\n",
       "      <td>No</td>\n",
       "      <td>79.00</td>\n",
       "      <td>Mkt&amp;HR</td>\n",
       "      <td>58.44</td>\n",
       "      <td>0.0</td>\n",
       "      <td>Not Placed</td>\n",
       "    </tr>\n",
       "    <tr>\n",
       "      <th>206</th>\n",
       "      <td>207</td>\n",
       "      <td>M</td>\n",
       "      <td>41.0</td>\n",
       "      <td>Central</td>\n",
       "      <td>42.0</td>\n",
       "      <td>Central</td>\n",
       "      <td>Science</td>\n",
       "      <td>60.00</td>\n",
       "      <td>Comm&amp;Mgmt</td>\n",
       "      <td>No</td>\n",
       "      <td>97.00</td>\n",
       "      <td>Mkt&amp;Fin</td>\n",
       "      <td>53.39</td>\n",
       "      <td>0.0</td>\n",
       "      <td>Not Placed</td>\n",
       "    </tr>\n",
       "    <tr>\n",
       "      <th>208</th>\n",
       "      <td>209</td>\n",
       "      <td>F</td>\n",
       "      <td>43.0</td>\n",
       "      <td>Central</td>\n",
       "      <td>60.0</td>\n",
       "      <td>Others</td>\n",
       "      <td>Science</td>\n",
       "      <td>65.00</td>\n",
       "      <td>Comm&amp;Mgmt</td>\n",
       "      <td>No</td>\n",
       "      <td>92.66</td>\n",
       "      <td>Mkt&amp;HR</td>\n",
       "      <td>62.92</td>\n",
       "      <td>0.0</td>\n",
       "      <td>Not Placed</td>\n",
       "    </tr>\n",
       "    <tr>\n",
       "      <th>214</th>\n",
       "      <td>215</td>\n",
       "      <td>M</td>\n",
       "      <td>62.0</td>\n",
       "      <td>Central</td>\n",
       "      <td>58.0</td>\n",
       "      <td>Others</td>\n",
       "      <td>Science</td>\n",
       "      <td>53.00</td>\n",
       "      <td>Comm&amp;Mgmt</td>\n",
       "      <td>No</td>\n",
       "      <td>89.00</td>\n",
       "      <td>Mkt&amp;HR</td>\n",
       "      <td>60.22</td>\n",
       "      <td>0.0</td>\n",
       "      <td>Not Placed</td>\n",
       "    </tr>\n",
       "  </tbody>\n",
       "</table>\n",
       "<p>67 rows × 15 columns</p>\n",
       "</div>"
      ],
      "text/plain": [
       "     sl_no gender  ssc_p    ssc_b  hsc_p    hsc_b     hsc_s  degree_p  \\\n",
       "3        4      M   56.0  Central   52.0  Central   Science     52.00   \n",
       "5        6      M   55.0   Others   49.8   Others   Science     67.25   \n",
       "6        7      F   46.0   Others   49.2   Others  Commerce     79.00   \n",
       "9       10      M   58.0  Central   70.0  Central  Commerce     61.00   \n",
       "12      13      F   47.0  Central   55.0   Others   Science     65.00   \n",
       "..     ...    ...    ...      ...    ...      ...       ...       ...   \n",
       "198    199      F   67.0  Central   70.0  Central  Commerce     65.00   \n",
       "201    202      M   54.2  Central   63.0   Others   Science     58.00   \n",
       "206    207      M   41.0  Central   42.0  Central   Science     60.00   \n",
       "208    209      F   43.0  Central   60.0   Others   Science     65.00   \n",
       "214    215      M   62.0  Central   58.0   Others   Science     53.00   \n",
       "\n",
       "      degree_t workex  etest_p specialisation  mba_p  salary      status  \n",
       "3     Sci&Tech     No    66.00         Mkt&HR  59.43     0.0  Not Placed  \n",
       "5     Sci&Tech    Yes    55.00        Mkt&Fin  51.58     0.0  Not Placed  \n",
       "6    Comm&Mgmt     No    74.28        Mkt&Fin  53.29     0.0  Not Placed  \n",
       "9    Comm&Mgmt     No    54.00        Mkt&Fin  52.21     0.0  Not Placed  \n",
       "12   Comm&Mgmt     No    62.00         Mkt&HR  65.04     0.0  Not Placed  \n",
       "..         ...    ...      ...            ...    ...     ...         ...  \n",
       "198     Others     No    88.00         Mkt&HR  71.96     0.0  Not Placed  \n",
       "201  Comm&Mgmt     No    79.00         Mkt&HR  58.44     0.0  Not Placed  \n",
       "206  Comm&Mgmt     No    97.00        Mkt&Fin  53.39     0.0  Not Placed  \n",
       "208  Comm&Mgmt     No    92.66         Mkt&HR  62.92     0.0  Not Placed  \n",
       "214  Comm&Mgmt     No    89.00         Mkt&HR  60.22     0.0  Not Placed  \n",
       "\n",
       "[67 rows x 15 columns]"
      ]
     },
     "execution_count": 52,
     "metadata": {},
     "output_type": "execute_result"
    }
   ],
   "source": [
    "#Since all of the null salaries are correlated to no placement, I believe\n",
    "#we assign 0 to these values, no job is directly correlated with no salary\n",
    "\n",
    "df.loc[df[\"status\"]=='Not Placed','salary']=0\n",
    "\n",
    "#check to confirm update\n",
    "df.loc[df[\"status\"]=='Not Placed']"
   ]
  },
  {
   "cell_type": "code",
   "execution_count": 53,
   "id": "18b8c7e5",
   "metadata": {},
   "outputs": [
    {
     "name": "stderr",
     "output_type": "stream",
     "text": [
      "C:\\Users\\Eric\\AppData\\Local\\Temp\\ipykernel_42572\\4173726600.py:5: FutureWarning: Dropping of nuisance columns in DataFrame reductions (with 'numeric_only=None') is deprecated; in a future version this will raise TypeError.  Select only valid columns before calling the reduction.\n",
      "  df.median()\n"
     ]
    },
    {
     "data": {
      "text/html": [
       "<div>\n",
       "<style scoped>\n",
       "    .dataframe tbody tr th:only-of-type {\n",
       "        vertical-align: middle;\n",
       "    }\n",
       "\n",
       "    .dataframe tbody tr th {\n",
       "        vertical-align: top;\n",
       "    }\n",
       "\n",
       "    .dataframe thead th {\n",
       "        text-align: right;\n",
       "    }\n",
       "</style>\n",
       "<table border=\"1\" class=\"dataframe\">\n",
       "  <thead>\n",
       "    <tr style=\"text-align: right;\">\n",
       "      <th></th>\n",
       "      <th>sl_no</th>\n",
       "      <th>gender</th>\n",
       "      <th>ssc_p</th>\n",
       "      <th>ssc_b</th>\n",
       "      <th>hsc_p</th>\n",
       "      <th>hsc_b</th>\n",
       "      <th>hsc_s</th>\n",
       "      <th>degree_p</th>\n",
       "      <th>degree_t</th>\n",
       "      <th>workex</th>\n",
       "      <th>etest_p</th>\n",
       "      <th>specialisation</th>\n",
       "      <th>mba_p</th>\n",
       "      <th>salary</th>\n",
       "      <th>status</th>\n",
       "    </tr>\n",
       "  </thead>\n",
       "  <tbody>\n",
       "    <tr>\n",
       "      <th>0</th>\n",
       "      <td>1</td>\n",
       "      <td>M</td>\n",
       "      <td>67.00</td>\n",
       "      <td>Others</td>\n",
       "      <td>91.00</td>\n",
       "      <td>Others</td>\n",
       "      <td>Commerce</td>\n",
       "      <td>58.00</td>\n",
       "      <td>Sci&amp;Tech</td>\n",
       "      <td>No</td>\n",
       "      <td>55.0</td>\n",
       "      <td>Mkt&amp;HR</td>\n",
       "      <td>58.80</td>\n",
       "      <td>270000.0</td>\n",
       "      <td>Placed</td>\n",
       "    </tr>\n",
       "    <tr>\n",
       "      <th>1</th>\n",
       "      <td>2</td>\n",
       "      <td>M</td>\n",
       "      <td>79.33</td>\n",
       "      <td>Central</td>\n",
       "      <td>78.33</td>\n",
       "      <td>Others</td>\n",
       "      <td>Science</td>\n",
       "      <td>77.48</td>\n",
       "      <td>Sci&amp;Tech</td>\n",
       "      <td>Yes</td>\n",
       "      <td>86.5</td>\n",
       "      <td>Mkt&amp;Fin</td>\n",
       "      <td>66.28</td>\n",
       "      <td>200000.0</td>\n",
       "      <td>Placed</td>\n",
       "    </tr>\n",
       "    <tr>\n",
       "      <th>2</th>\n",
       "      <td>3</td>\n",
       "      <td>M</td>\n",
       "      <td>65.00</td>\n",
       "      <td>Central</td>\n",
       "      <td>68.00</td>\n",
       "      <td>Central</td>\n",
       "      <td>Arts</td>\n",
       "      <td>64.00</td>\n",
       "      <td>Comm&amp;Mgmt</td>\n",
       "      <td>No</td>\n",
       "      <td>75.0</td>\n",
       "      <td>Mkt&amp;Fin</td>\n",
       "      <td>57.80</td>\n",
       "      <td>250000.0</td>\n",
       "      <td>Placed</td>\n",
       "    </tr>\n",
       "    <tr>\n",
       "      <th>3</th>\n",
       "      <td>4</td>\n",
       "      <td>M</td>\n",
       "      <td>56.00</td>\n",
       "      <td>Central</td>\n",
       "      <td>52.00</td>\n",
       "      <td>Central</td>\n",
       "      <td>Science</td>\n",
       "      <td>52.00</td>\n",
       "      <td>Sci&amp;Tech</td>\n",
       "      <td>No</td>\n",
       "      <td>66.0</td>\n",
       "      <td>Mkt&amp;HR</td>\n",
       "      <td>59.43</td>\n",
       "      <td>0.0</td>\n",
       "      <td>Not Placed</td>\n",
       "    </tr>\n",
       "    <tr>\n",
       "      <th>4</th>\n",
       "      <td>5</td>\n",
       "      <td>M</td>\n",
       "      <td>85.80</td>\n",
       "      <td>Central</td>\n",
       "      <td>73.60</td>\n",
       "      <td>Central</td>\n",
       "      <td>Commerce</td>\n",
       "      <td>73.30</td>\n",
       "      <td>Comm&amp;Mgmt</td>\n",
       "      <td>No</td>\n",
       "      <td>96.8</td>\n",
       "      <td>Mkt&amp;Fin</td>\n",
       "      <td>55.50</td>\n",
       "      <td>425000.0</td>\n",
       "      <td>Placed</td>\n",
       "    </tr>\n",
       "    <tr>\n",
       "      <th>...</th>\n",
       "      <td>...</td>\n",
       "      <td>...</td>\n",
       "      <td>...</td>\n",
       "      <td>...</td>\n",
       "      <td>...</td>\n",
       "      <td>...</td>\n",
       "      <td>...</td>\n",
       "      <td>...</td>\n",
       "      <td>...</td>\n",
       "      <td>...</td>\n",
       "      <td>...</td>\n",
       "      <td>...</td>\n",
       "      <td>...</td>\n",
       "      <td>...</td>\n",
       "      <td>...</td>\n",
       "    </tr>\n",
       "    <tr>\n",
       "      <th>210</th>\n",
       "      <td>211</td>\n",
       "      <td>M</td>\n",
       "      <td>80.60</td>\n",
       "      <td>Others</td>\n",
       "      <td>82.00</td>\n",
       "      <td>Others</td>\n",
       "      <td>Commerce</td>\n",
       "      <td>77.60</td>\n",
       "      <td>Comm&amp;Mgmt</td>\n",
       "      <td>No</td>\n",
       "      <td>91.0</td>\n",
       "      <td>Mkt&amp;Fin</td>\n",
       "      <td>74.49</td>\n",
       "      <td>400000.0</td>\n",
       "      <td>Placed</td>\n",
       "    </tr>\n",
       "    <tr>\n",
       "      <th>211</th>\n",
       "      <td>212</td>\n",
       "      <td>M</td>\n",
       "      <td>58.00</td>\n",
       "      <td>Others</td>\n",
       "      <td>60.00</td>\n",
       "      <td>Others</td>\n",
       "      <td>Science</td>\n",
       "      <td>72.00</td>\n",
       "      <td>Sci&amp;Tech</td>\n",
       "      <td>No</td>\n",
       "      <td>74.0</td>\n",
       "      <td>Mkt&amp;Fin</td>\n",
       "      <td>53.62</td>\n",
       "      <td>275000.0</td>\n",
       "      <td>Placed</td>\n",
       "    </tr>\n",
       "    <tr>\n",
       "      <th>212</th>\n",
       "      <td>213</td>\n",
       "      <td>M</td>\n",
       "      <td>67.00</td>\n",
       "      <td>Others</td>\n",
       "      <td>67.00</td>\n",
       "      <td>Others</td>\n",
       "      <td>Commerce</td>\n",
       "      <td>73.00</td>\n",
       "      <td>Comm&amp;Mgmt</td>\n",
       "      <td>Yes</td>\n",
       "      <td>59.0</td>\n",
       "      <td>Mkt&amp;Fin</td>\n",
       "      <td>69.72</td>\n",
       "      <td>295000.0</td>\n",
       "      <td>Placed</td>\n",
       "    </tr>\n",
       "    <tr>\n",
       "      <th>213</th>\n",
       "      <td>214</td>\n",
       "      <td>F</td>\n",
       "      <td>74.00</td>\n",
       "      <td>Others</td>\n",
       "      <td>66.00</td>\n",
       "      <td>Others</td>\n",
       "      <td>Commerce</td>\n",
       "      <td>58.00</td>\n",
       "      <td>Comm&amp;Mgmt</td>\n",
       "      <td>No</td>\n",
       "      <td>70.0</td>\n",
       "      <td>Mkt&amp;HR</td>\n",
       "      <td>60.23</td>\n",
       "      <td>204000.0</td>\n",
       "      <td>Placed</td>\n",
       "    </tr>\n",
       "    <tr>\n",
       "      <th>214</th>\n",
       "      <td>215</td>\n",
       "      <td>M</td>\n",
       "      <td>62.00</td>\n",
       "      <td>Central</td>\n",
       "      <td>58.00</td>\n",
       "      <td>Others</td>\n",
       "      <td>Science</td>\n",
       "      <td>53.00</td>\n",
       "      <td>Comm&amp;Mgmt</td>\n",
       "      <td>No</td>\n",
       "      <td>89.0</td>\n",
       "      <td>Mkt&amp;HR</td>\n",
       "      <td>60.22</td>\n",
       "      <td>0.0</td>\n",
       "      <td>Not Placed</td>\n",
       "    </tr>\n",
       "  </tbody>\n",
       "</table>\n",
       "<p>215 rows × 15 columns</p>\n",
       "</div>"
      ],
      "text/plain": [
       "     sl_no gender  ssc_p    ssc_b  hsc_p    hsc_b     hsc_s  degree_p  \\\n",
       "0        1      M  67.00   Others  91.00   Others  Commerce     58.00   \n",
       "1        2      M  79.33  Central  78.33   Others   Science     77.48   \n",
       "2        3      M  65.00  Central  68.00  Central      Arts     64.00   \n",
       "3        4      M  56.00  Central  52.00  Central   Science     52.00   \n",
       "4        5      M  85.80  Central  73.60  Central  Commerce     73.30   \n",
       "..     ...    ...    ...      ...    ...      ...       ...       ...   \n",
       "210    211      M  80.60   Others  82.00   Others  Commerce     77.60   \n",
       "211    212      M  58.00   Others  60.00   Others   Science     72.00   \n",
       "212    213      M  67.00   Others  67.00   Others  Commerce     73.00   \n",
       "213    214      F  74.00   Others  66.00   Others  Commerce     58.00   \n",
       "214    215      M  62.00  Central  58.00   Others   Science     53.00   \n",
       "\n",
       "      degree_t workex  etest_p specialisation  mba_p    salary      status  \n",
       "0     Sci&Tech     No     55.0         Mkt&HR  58.80  270000.0      Placed  \n",
       "1     Sci&Tech    Yes     86.5        Mkt&Fin  66.28  200000.0      Placed  \n",
       "2    Comm&Mgmt     No     75.0        Mkt&Fin  57.80  250000.0      Placed  \n",
       "3     Sci&Tech     No     66.0         Mkt&HR  59.43       0.0  Not Placed  \n",
       "4    Comm&Mgmt     No     96.8        Mkt&Fin  55.50  425000.0      Placed  \n",
       "..         ...    ...      ...            ...    ...       ...         ...  \n",
       "210  Comm&Mgmt     No     91.0        Mkt&Fin  74.49  400000.0      Placed  \n",
       "211   Sci&Tech     No     74.0        Mkt&Fin  53.62  275000.0      Placed  \n",
       "212  Comm&Mgmt    Yes     59.0        Mkt&Fin  69.72  295000.0      Placed  \n",
       "213  Comm&Mgmt     No     70.0         Mkt&HR  60.23  204000.0      Placed  \n",
       "214  Comm&Mgmt     No     89.0         Mkt&HR  60.22       0.0  Not Placed  \n",
       "\n",
       "[215 rows x 15 columns]"
      ]
     },
     "execution_count": 53,
     "metadata": {},
     "output_type": "execute_result"
    }
   ],
   "source": [
    "#To account for hsc_p nulls, I will take a median of the other values in the\n",
    "#column and set those as a replacement, so as to not skew the data too much\n",
    "\n",
    "#Find median\n",
    "df.median()\n",
    "\n",
    "#replace with median\n",
    "df.loc[df[\"hsc_p\"].isnull(),'hsc_p']=65\n",
    "df"
   ]
  },
  {
   "cell_type": "code",
   "execution_count": 54,
   "id": "1ff697cd",
   "metadata": {},
   "outputs": [],
   "source": [
    "# Because of the small amount of categorical null values in hsc_s and specialization, I have opted to \n",
    "# drop the rows\n",
    "df=df.dropna(subset=['hsc_s'])\n",
    "df=df.dropna(subset=['specialisation'])"
   ]
  },
  {
   "cell_type": "code",
   "execution_count": 55,
   "id": "7799d35f",
   "metadata": {},
   "outputs": [],
   "source": [
    "df.to_csv('Updated_Placement.csv')"
   ]
  },
  {
   "cell_type": "code",
   "execution_count": 56,
   "id": "238a690c",
   "metadata": {},
   "outputs": [],
   "source": [
    "###\n",
    "#            Question 2: Adjusting for Outliers\n",
    "###\n"
   ]
  },
  {
   "cell_type": "code",
   "execution_count": 57,
   "id": "6ee0d00c",
   "metadata": {},
   "outputs": [
    {
     "name": "stdout",
     "output_type": "stream",
     "text": [
      "sl_no       56.00\n",
      "ssc_p       60.80\n",
      "hsc_p       61.00\n",
      "degree_p    61.00\n",
      "etest_p     60.00\n",
      "mba_p       57.99\n",
      "salary       0.00\n",
      "Name: 0.25, dtype: float64 \n",
      " sl_no          162.00\n",
      "ssc_p           76.00\n",
      "hsc_p           73.00\n",
      "degree_p        72.00\n",
      "etest_p         84.00\n",
      "mba_p           66.28\n",
      "salary      285000.00\n",
      "Name: 0.75, dtype: float64 \n",
      "\n",
      "sl_no          106.00\n",
      "ssc_p           15.20\n",
      "hsc_p           12.00\n",
      "degree_p        11.00\n",
      "etest_p         24.00\n",
      "mba_p            8.29\n",
      "salary      285000.00\n",
      "dtype: float64\n"
     ]
    }
   ],
   "source": [
    "# Find the interquartile range\n",
    "q1=df.quantile(.25)\n",
    "q3=df.quantile(.75)\n",
    "print(q1,'\\n',q3,'\\n')\n",
    "\n",
    "iqr=q3-q1\n",
    "print(iqr)\n",
    "\n",
    "## The first thing I noticed here is the fact that the salary column's lower \n",
    "## quartile is 0, this is not entirely accurate as these 0's are categorized\n",
    "## by no job placement, meaning it would skew our data and actually lead to a\n",
    "## negative lower range. I believe the proper way to address this is to filter\n",
    "## this category for non-zero values, and find the interquartile range for that\n",
    "## range of values.(IQR from these findings will only be applied to the salary column)\n",
    "\n",
    "## We also need to exclude sl_no as these are serial numbers and have no correlation\n",
    "## in the data"
   ]
  },
  {
   "cell_type": "code",
   "execution_count": 58,
   "id": "e247e153",
   "metadata": {},
   "outputs": [
    {
     "name": "stdout",
     "output_type": "stream",
     "text": [
      "     sl_no gender  ssc_p    ssc_b  hsc_p    hsc_b     hsc_s  degree_p  \\\n",
      "0        1      M  67.00   Others  91.00   Others  Commerce     58.00   \n",
      "1        2      M  79.33  Central  78.33   Others   Science     77.48   \n",
      "2        3      M  65.00  Central  68.00  Central      Arts     64.00   \n",
      "3        4      M  56.00  Central  52.00  Central   Science     52.00   \n",
      "5        6      M  55.00   Others  49.80   Others   Science     67.25   \n",
      "..     ...    ...    ...      ...    ...      ...       ...       ...   \n",
      "209    210      M  62.00  Central  72.00  Central  Commerce     65.00   \n",
      "211    212      M  58.00   Others  60.00   Others   Science     72.00   \n",
      "212    213      M  67.00   Others  67.00   Others  Commerce     73.00   \n",
      "213    214      F  74.00   Others  66.00   Others  Commerce     58.00   \n",
      "214    215      M  62.00  Central  58.00   Others   Science     53.00   \n",
      "\n",
      "      degree_t workex  etest_p specialisation  mba_p    salary      status  \n",
      "0     Sci&Tech     No     55.0         Mkt&HR  58.80  270000.0      Placed  \n",
      "1     Sci&Tech    Yes     86.5        Mkt&Fin  66.28  200000.0      Placed  \n",
      "2    Comm&Mgmt     No     75.0        Mkt&Fin  57.80  250000.0      Placed  \n",
      "3     Sci&Tech     No     66.0         Mkt&HR  59.43       0.0  Not Placed  \n",
      "5     Sci&Tech    Yes     55.0        Mkt&Fin  51.58       0.0  Not Placed  \n",
      "..         ...    ...      ...            ...    ...       ...         ...  \n",
      "209  Comm&Mgmt     No     67.0        Mkt&Fin  56.49  216000.0      Placed  \n",
      "211   Sci&Tech     No     74.0        Mkt&Fin  53.62  275000.0      Placed  \n",
      "212  Comm&Mgmt    Yes     59.0        Mkt&Fin  69.72  295000.0      Placed  \n",
      "213  Comm&Mgmt     No     70.0         Mkt&HR  60.23  204000.0      Placed  \n",
      "214  Comm&Mgmt     No     89.0         Mkt&HR  60.22       0.0  Not Placed  \n",
      "\n",
      "[196 rows x 15 columns]\n"
     ]
    }
   ],
   "source": [
    "## Finding and checking Iqr\n",
    "low_sal=df.loc[df['salary']!=0].quantile(.25)\n",
    "up_sal=df.loc[df['salary']!=0].quantile(.75)\n",
    "Iqr_sal=up_sal['salary']-low_sal['salary']\n",
    "\n",
    "## Setting lower and upper limits\n",
    "below=low_sal['salary']-1.5*Iqr_sal\n",
    "above=up_sal['salary']+1.5*Iqr_sal\n",
    "\n",
    "## Findings and removing outlies\n",
    "outliers=df.loc[((df['salary']<below) | (df['salary']>above)) & (df['salary']>0)]\n",
    "\n",
    "df_no_outliers=df.drop(outliers.index)\n",
    "\n",
    "print(df_no_outliers)"
   ]
  },
  {
   "cell_type": "code",
   "execution_count": 59,
   "id": "5d12e658",
   "metadata": {},
   "outputs": [
    {
     "name": "stdout",
     "output_type": "stream",
     "text": [
      "     sl_no gender  ssc_p    ssc_b  hsc_p    hsc_b     hsc_s  degree_p  \\\n",
      "0        1      M  67.00   Others  91.00   Others  Commerce     58.00   \n",
      "1        2      M  79.33  Central  78.33   Others   Science     77.48   \n",
      "2        3      M  65.00  Central  68.00  Central      Arts     64.00   \n",
      "3        4      M  56.00  Central  52.00  Central   Science     52.00   \n",
      "5        6      M  55.00   Others  49.80   Others   Science     67.25   \n",
      "..     ...    ...    ...      ...    ...      ...       ...       ...   \n",
      "209    210      M  62.00  Central  72.00  Central  Commerce     65.00   \n",
      "211    212      M  58.00   Others  60.00   Others   Science     72.00   \n",
      "212    213      M  67.00   Others  67.00   Others  Commerce     73.00   \n",
      "213    214      F  74.00   Others  66.00   Others  Commerce     58.00   \n",
      "214    215      M  62.00  Central  58.00   Others   Science     53.00   \n",
      "\n",
      "      degree_t workex  etest_p specialisation  mba_p    salary      status  \n",
      "0     Sci&Tech     No     55.0         Mkt&HR  58.80  270000.0      Placed  \n",
      "1     Sci&Tech    Yes     86.5        Mkt&Fin  66.28  200000.0      Placed  \n",
      "2    Comm&Mgmt     No     75.0        Mkt&Fin  57.80  250000.0      Placed  \n",
      "3     Sci&Tech     No     66.0         Mkt&HR  59.43       0.0  Not Placed  \n",
      "5     Sci&Tech    Yes     55.0        Mkt&Fin  51.58       0.0  Not Placed  \n",
      "..         ...    ...      ...            ...    ...       ...         ...  \n",
      "209  Comm&Mgmt     No     67.0        Mkt&Fin  56.49  216000.0      Placed  \n",
      "211   Sci&Tech     No     74.0        Mkt&Fin  53.62  275000.0      Placed  \n",
      "212  Comm&Mgmt    Yes     59.0        Mkt&Fin  69.72  295000.0      Placed  \n",
      "213  Comm&Mgmt     No     70.0         Mkt&HR  60.23  204000.0      Placed  \n",
      "214  Comm&Mgmt     No     89.0         Mkt&HR  60.22       0.0  Not Placed  \n",
      "\n",
      "[187 rows x 15 columns]\n"
     ]
    }
   ],
   "source": [
    "## Moving on to the other columns, I will attempt to automate this step to prevent redundancy in the code\n",
    "\n",
    "## Filtering for floats will give us all of the columns we need, and exclude serial number which we do\n",
    "## not want to filter.\n",
    "numeric_columns=df.select_dtypes(include=['float64'])\n",
    "\n",
    "\n",
    "col_to_filter=list(numeric_columns.columns)\n",
    "\n",
    "#Adjust for already filtered salary column\n",
    "col_to_filter=col_to_filter[0:-1]\n",
    "\n",
    "for i in col_to_filter:\n",
    "    IQRange=q3[i]-q1[i]\n",
    "    below=q1[i]-1.5*IQRange\n",
    "    above=q3[i]+1.5*IQRange\n",
    "    df_no_outliers=df_no_outliers.loc[(df[i] >= below) & (df[i] <= above)] \n",
    "\n",
    "print(df_no_outliers)"
   ]
  },
  {
   "cell_type": "code",
   "execution_count": 60,
   "id": "983ae9d7",
   "metadata": {},
   "outputs": [],
   "source": [
    "df_no_outliers.to_csv('Cleaned_data.csv')"
   ]
  },
  {
   "cell_type": "code",
   "execution_count": 61,
   "id": "a6e0d0ab",
   "metadata": {},
   "outputs": [],
   "source": [
    "###\n",
    "#            Question 3: Who are these graduates ?\n",
    "###"
   ]
  },
  {
   "cell_type": "code",
   "execution_count": 62,
   "id": "c293435d",
   "metadata": {},
   "outputs": [
    {
     "data": {
      "text/plain": [
       "Text(0.5, 1.0, 'Number of Students per Percentile')"
      ]
     },
     "execution_count": 62,
     "metadata": {},
     "output_type": "execute_result"
    },
    {
     "data": {
      "image/png": "[encoded data removed]",
      "text/plain": [
       "<Figure size 432x288 with 1 Axes>"
      ]
     },
     "metadata": {
      "needs_background": "light"
     },
     "output_type": "display_data"
    }
   ],
   "source": [
    "df_no_outliers['etestbin']=pd.cut(df_no_outliers['etest_p'],[49,60,70,80,90,110],\n",
    "                                  labels=['50-60','61-70','71-80','81-90','90+'])\n",
    "dfgrp=df_no_outliers.groupby(['etestbin'],as_index=False)['etest_p'].count()\n",
    "\n",
    "plt.bar(dfgrp['etestbin'],dfgrp['etest_p'])\n",
    "plt.xlabel('Employment Test Percentile')\n",
    "plt.ylabel('Student Count')\n",
    "plt.title('Number of Students per Percentile')\n"
   ]
  },
  {
   "cell_type": "code",
   "execution_count": 63,
   "id": "7c1b1772",
   "metadata": {},
   "outputs": [],
   "source": [
    "# Here we can see the number of students that scored in each percentile of the Employment test.\n",
    "# It appears that most students placed in the 60-80th percentile."
   ]
  },
  {
   "cell_type": "code",
   "execution_count": 64,
   "id": "ff19e055",
   "metadata": {},
   "outputs": [
    {
     "data": {
      "text/plain": [
       "[Text(0.5, 0, 'Degree type'),\n",
       " Text(0, 0.5, 'Salary'),\n",
       " Text(0.5, 1.0, 'Salary vs. Degree and Specialisation')]"
      ]
     },
     "execution_count": 64,
     "metadata": {},
     "output_type": "execute_result"
    },
    {
     "data": {
      "image/png": "[encoded data removed]",
      "text/plain": [
       "<Figure size 432x288 with 1 Axes>"
      ]
     },
     "metadata": {
      "needs_background": "light"
     },
     "output_type": "display_data"
    }
   ],
   "source": [
    "#Noticed that there is a single specialization labeled as Mt&HR, will rename to Mkt&HR\n",
    "df_no_outliers.loc[df_no_outliers['specialisation']=='Mt&HR','specialisation']='Mkt&HR'\n",
    "\n",
    "#Looking for specifically salaried students, as non placed students skew the data due to a salary of 0\n",
    "df_salaried=df_no_outliers.loc[df_no_outliers['salary']!=0]\n",
    "dfgrp=df_salaried.groupby(['degree_t','specialisation'],as_index=False)['salary'].median()\n",
    "\n",
    "chart=sb.barplot(x='degree_t',\n",
    "          y='salary',\n",
    "          hue='specialisation',\n",
    "          data=dfgrp)\n",
    "chart.set(xlabel='Degree type',ylabel='Salary',title='Salary vs. Degree and Specialisation')"
   ]
  },
  {
   "cell_type": "code",
   "execution_count": 65,
   "id": "fe7e1592",
   "metadata": {},
   "outputs": [],
   "source": [
    "# Through this chart, we can see the median salaries per degree type and specialisation. Generally\n",
    "# speaking, the salary seems to be within close proximity for all variables. It does appear that \n",
    "# a specialisation in Marketing and Finance results in higher salary than Marketing and HR."
   ]
  },
  {
   "cell_type": "code",
   "execution_count": 66,
   "id": "adba835f",
   "metadata": {},
   "outputs": [
    {
     "data": {
      "text/plain": [
       "[Text(0.5, 0, 'Salary'),\n",
       " Text(0, 0.5, 'Count'),\n",
       " Text(0.5, 1.0, 'Salary Distribution For Placed Students')]"
      ]
     },
     "execution_count": 66,
     "metadata": {},
     "output_type": "execute_result"
    },
    {
     "data": {
      "image/png": "[encoded data removed]",
      "text/plain": [
       "<Figure size 432x288 with 1 Axes>"
      ]
     },
     "metadata": {
      "needs_background": "light"
     },
     "output_type": "display_data"
    }
   ],
   "source": [
    "chart=df_salaried['salary'].hist()\n",
    "chart.set(xlabel='Salary',ylabel='Count',title='Salary Distribution For Placed Students')"
   ]
  },
  {
   "cell_type": "code",
   "execution_count": 67,
   "id": "c841b469",
   "metadata": {},
   "outputs": [],
   "source": [
    "# We can see a salary distribution across places students through the histogram above.\n",
    "# As we can see, the majority of places students place within the 230-310k range, a respectable salary"
   ]
  },
  {
   "cell_type": "code",
   "execution_count": 68,
   "id": "97ee613f",
   "metadata": {},
   "outputs": [
    {
     "data": {
      "text/plain": [
       "[Text(0.5, 0, 'Degree Type'),\n",
       " Text(0, 0.5, 'Number Of Students (By Gender)'),\n",
       " Text(0.5, 1.0, 'Gender vs. Degree Type')]"
      ]
     },
     "execution_count": 68,
     "metadata": {},
     "output_type": "execute_result"
    },
    {
     "data": {
      "image/png": "[encoded data removed]",
      "text/plain": [
       "<Figure size 432x288 with 1 Axes>"
      ]
     },
     "metadata": {
      "needs_background": "light"
     },
     "output_type": "display_data"
    }
   ],
   "source": [
    "dfgrp=df_no_outliers\n",
    "\n",
    "#Adding a duplicate gender role to hold to count value of each gender\n",
    "dfgrp['gen']=dfgrp['gender']\n",
    "\n",
    "dfgrp=df_no_outliers.groupby(['degree_t','gender'],as_index=False)['gen'].count() \n",
    "\n",
    "chart=sb.barplot(x='degree_t',\n",
    "          y='gen',\n",
    "          hue='gender',\n",
    "          data=dfgrp)\n",
    "chart.set(xlabel='Degree Type',ylabel='Number Of Students (By Gender)',title='Gender vs. Degree Type')"
   ]
  },
  {
   "cell_type": "code",
   "execution_count": 69,
   "id": "8237d20d",
   "metadata": {},
   "outputs": [],
   "source": [
    "# Through this chart we can see that this recruiting firm recruits a majority of males, as such we \n",
    "# can see each degree type is predominantly male with the exception of \"Others\" which is likely due \n",
    "# to a small sample size in this category."
   ]
  },
  {
   "cell_type": "code",
   "execution_count": 70,
   "id": "04328679",
   "metadata": {},
   "outputs": [
    {
     "data": {
      "text/plain": [
       "0.1298965083100484"
      ]
     },
     "execution_count": 70,
     "metadata": {},
     "output_type": "execute_result"
    },
    {
     "data": {
      "image/png": "[encoded data removed]",
      "text/plain": [
       "<Figure size 432x288 with 1 Axes>"
      ]
     },
     "metadata": {
      "needs_background": "light"
     },
     "output_type": "display_data"
    }
   ],
   "source": [
    "\n",
    "sb.regplot(x=df_salaried['etest_p'],y=df_salaried['salary'],fit_reg=True)\n",
    "\n",
    "df_salaried['etest_p'].corr(df_salaried['salary'])"
   ]
  },
  {
   "cell_type": "code",
   "execution_count": 71,
   "id": "1bc7fd78",
   "metadata": {},
   "outputs": [],
   "source": [
    "## As we can see, there seems to be no relationship between employment test percentiles and salary.\n",
    "## The same applies to all other percentile based variables in the dataset hence the lack of scatter\n",
    "## and line plots/regressions. We can infer that educational based scoring has no bearing on salary\n",
    "## of students that are placed."
   ]
  },
  {
   "cell_type": "code",
   "execution_count": 72,
   "id": "b3e202e7",
   "metadata": {},
   "outputs": [],
   "source": [
    "###\n",
    "#            Question 4: Who are most likely to get placed?\n",
    "###"
   ]
  },
  {
   "cell_type": "code",
   "execution_count": 73,
   "id": "d5dbd830",
   "metadata": {},
   "outputs": [
    {
     "data": {
      "text/plain": [
       "[Text(0.5, 0, 'Job Placement'),\n",
       " Text(0, 0.5, 'Number Of Students (By Gender)'),\n",
       " Text(0.5, 1.0, 'Gender vs. Job Placement')]"
      ]
     },
     "execution_count": 73,
     "metadata": {},
     "output_type": "execute_result"
    },
    {
     "data": {
      "image/png": "[encoded data removed]",
      "text/plain": [
       "<Figure size 432x288 with 1 Axes>"
      ]
     },
     "metadata": {
      "needs_background": "light"
     },
     "output_type": "display_data"
    }
   ],
   "source": [
    "dfgrp=df_no_outliers.groupby(['status','gender'],as_index=False)['gen'].count()\n",
    "chart=sb.barplot(x='status',\n",
    "          y='gen',\n",
    "          hue='gender',\n",
    "          data=dfgrp)\n",
    "chart.set(xlabel='Job Placement',ylabel='Number Of Students (By Gender)',title='Gender vs. Job Placement')"
   ]
  },
  {
   "cell_type": "code",
   "execution_count": 74,
   "id": "4e197a7d",
   "metadata": {},
   "outputs": [
    {
     "name": "stdout",
     "output_type": "stream",
     "text": [
      "       status gender  gen  total  percentage\n",
      "0  Not Placed      F   27     68   39.705882\n",
      "1      Placed      F   41     68   60.294118\n",
      "2  Not Placed      M   34    119   28.571429\n",
      "3      Placed      M   85    119   71.428571\n"
     ]
    }
   ],
   "source": [
    "# Here we can the distribution of job placement by gender. While males have a smaller discrepency in \n",
    "# not being placed in relation to females, there is an much higher number of males being placed at jobs\n",
    "# in relation to females. This begs a couple of question, firstly are these numbers proportional to the\n",
    "# number of men and women, and is there a difference in levels of qualification\n",
    "\n",
    "# To address the first question:\n",
    "\n",
    "#create a new dataframe and group by sum of gender:\n",
    "gencount=dfgrp.groupby(['gender'],as_index=False)['gen'].sum()\n",
    "#rename to total per gender\n",
    "gencount.rename(columns={'gen':'total'}, inplace=True)\n",
    "#merge with dfgrp to have totals per each gender\n",
    "merged=pd.merge(dfgrp,gencount,on='gender')\n",
    "#find percentage per gender for placed and non placed students\n",
    "merged['percentage']=merged['gen']/merged['total']*100\n",
    "\n",
    "print(merged)\n",
    "\n",
    "# Here we can see a discrepency between Females and Males in terms of job placement, despite the \n",
    "# number of students per gender, males get placed at a higher rate than females"
   ]
  },
  {
   "cell_type": "code",
   "execution_count": 75,
   "id": "f045e98b",
   "metadata": {},
   "outputs": [
    {
     "data": {
      "text/plain": [
       "[Text(0.5, 0, 'Status of Placement'),\n",
       " Text(0, 0.5, 'Number Of Students (By Gender)'),\n",
       " Text(0.5, 1.0, 'Placement Status By Gender vs. Mean Employment Test Percentile')]"
      ]
     },
     "execution_count": 75,
     "metadata": {},
     "output_type": "execute_result"
    },
    {
     "data": {
      "image/png": "[encoded data removed]",
      "text/plain": [
       "<Figure size 432x288 with 1 Axes>"
      ]
     },
     "metadata": {
      "needs_background": "light"
     },
     "output_type": "display_data"
    }
   ],
   "source": [
    "# For our second question, we will use employment test percentile as a proxy for job qualification, in order to see if there is\n",
    "# a reason for the discrepency between male and female employment.\n",
    "\n",
    "dfgrp=df_no_outliers.groupby(['status','gender'],as_index=False)['gender'].count()\n",
    "dfgrp=df_no_outliers.groupby(['status','gender'],as_index=False)['etest_p'].mean()\n",
    "\n",
    "chart=sb.barplot(x='status',\n",
    "          y='etest_p',\n",
    "          hue='gender',\n",
    "          data=dfgrp)\n",
    "chart.set(xlabel='Status of Placement',ylabel='Number Of Students (By Gender)',\n",
    "          title='Placement Status By Gender vs. Mean Employment Test Percentile')"
   ]
  },
  {
   "cell_type": "code",
   "execution_count": 76,
   "id": "0811ad59",
   "metadata": {},
   "outputs": [],
   "source": [
    "# Here we can see an interesting contradiction into the status of job placement by gender.\n",
    "# We can see that of those who are placed, males have a higher employment test score percentile \n",
    "# than females, however females who are not placed have a higher average percentile score than of those who are placed.\n",
    "# It is, however, important to note that males seem to require a higher employment score on average than females."
   ]
  },
  {
   "cell_type": "code",
   "execution_count": 77,
   "id": "e7e6c77e",
   "metadata": {},
   "outputs": [
    {
     "data": {
      "text/plain": [
       "[Text(0.5, 0, 'Work Experience'),\n",
       " Text(0, 0.5, 'Student Count'),\n",
       " Text(0.5, 1.0, 'Work Experience vs. Job Placement')]"
      ]
     },
     "execution_count": 77,
     "metadata": {},
     "output_type": "execute_result"
    },
    {
     "data": {
      "image/png": "[encoded data removed]",
      "text/plain": [
       "<Figure size 432x288 with 1 Axes>"
      ]
     },
     "metadata": {
      "needs_background": "light"
     },
     "output_type": "display_data"
    }
   ],
   "source": [
    "dfgrp=df_no_outliers\n",
    "dfgrp['count']=dfgrp['status']\n",
    "dfgrp=dfgrp.groupby(['workex','status'],as_index=False)['count'].count()\n",
    "\n",
    "chart=sb.barplot(x='workex',\n",
    "          y='count',\n",
    "          hue='status',\n",
    "          data=dfgrp)\n",
    "chart.set(xlabel='Work Experience',ylabel='Student Count',\n",
    "          title='Work Experience vs. Job Placement')"
   ]
  },
  {
   "cell_type": "code",
   "execution_count": 78,
   "id": "4ceefdc9",
   "metadata": {},
   "outputs": [],
   "source": [
    "# Here we can see that there is a higher rate of placement than none placement regardless of work\n",
    "# experience. However, students that do have previous work experience have a higher rate of being \n",
    "# placed than those who do not."
   ]
  },
  {
   "cell_type": "code",
   "execution_count": 79,
   "id": "69bc848a",
   "metadata": {},
   "outputs": [],
   "source": [
    "###\n",
    "#            Question 5: Prepare the data for a regression analysis\n",
    "###"
   ]
  },
  {
   "cell_type": "code",
   "execution_count": 80,
   "id": "556c633b",
   "metadata": {},
   "outputs": [],
   "source": [
    "#Preparing data for logistical Regression\n",
    "from sklearn.linear_model import LogisticRegression\n",
    "\n",
    "#Replacing categorical data with numeric data\n",
    "\n",
    "# Placed=1, Not Placed=0\n",
    "df_reg=df_no_outliers\n",
    "df_reg=df_reg.drop(columns=['gen','count','etestbin','sl_no'])\n",
    "df_reg['Status_Level']=0\n",
    "df_reg.loc[df['status']=='Placed','Status_Level']=1\n",
    "df_reg=df_reg.drop(['status'],axis=1)\n",
    "\n",
    "# Male=1,Female=2\n",
    "df_reg['gender_type']=1\n",
    "df_reg.loc[df['gender']=='F','gender_type']=2\n",
    "df_reg=df_reg.drop(['gender'],axis=1)\n",
    "\n",
    "# Others=1,Central=2\n",
    "df_reg['BOE_type']=1\n",
    "df_reg.loc[df['ssc_b']=='Central','BOE_type']=2\n",
    "df_reg=df_reg.drop(['ssc_b'],axis=1)\n",
    "\n",
    "# Others=1,Central=2\n",
    "df_reg['BOE_other_type']=1\n",
    "df_reg.loc[df['hsc_b']=='Central','BOE_other_type']=2\n",
    "df_reg=df_reg.drop(['hsc_b'],axis=1)\n",
    "\n",
    "# Science=1,Commerce=2,Arts=3\n",
    "df_reg['secondary_spec']=1\n",
    "df_reg.loc[df['hsc_s']=='Commerce','secondary_spec']=2\n",
    "df_reg.loc[df['hsc_s']=='Arts','secondary_spec']=3\n",
    "df_reg=df_reg.drop(['hsc_s'],axis=1)\n",
    "\n",
    "# Sci&Tech=1,Others=2,Comm&Mgmts=3\n",
    "df_reg['UG_degree_type']=1\n",
    "df_reg.loc[df['degree_t']=='Others','UG_degree_type']=2\n",
    "df_reg.loc[df['degree_t']=='Comm&Mgmt','UG_degree_type']=3\n",
    "df_reg=df_reg.drop(['degree_t'],axis=1)\n",
    "\n",
    "# No=0,Yes=1\n",
    "df_reg['WorkExp_Level']=0\n",
    "df_reg.loc[df['workex']=='Yes','WorkExp_Level']=1\n",
    "df_reg=df_reg.drop(['workex'],axis=1)\n",
    "\n",
    "# Mkt&HR=1,Mkt&Fin=2\n",
    "df_reg['spec_type']=1\n",
    "df_reg.loc[df['specialisation']=='Mkt&Fin','spec_type']=2\n",
    "df_reg=df_reg.drop(['specialisation'],axis=1)\n",
    "\n",
    "#Setting data for regression, removing salary as it is perfectly correlated to placement\n",
    "X=df_reg\n",
    "X=X.drop(['Status_Level','salary'],axis=1)\n",
    "y=df_reg['Status_Level']"
   ]
  },
  {
   "cell_type": "code",
   "execution_count": 81,
   "id": "e079013c",
   "metadata": {},
   "outputs": [],
   "source": [
    "###\n",
    "#            Question 6: Run the regression analysis\n",
    "###"
   ]
  },
  {
   "cell_type": "code",
   "execution_count": 82,
   "id": "753a164c",
   "metadata": {},
   "outputs": [
    {
     "name": "stderr",
     "output_type": "stream",
     "text": [
      "C:\\Users\\Eric\\anaconda3\\lib\\site-packages\\sklearn\\linear_model\\_logistic.py:814: ConvergenceWarning: lbfgs failed to converge (status=1):\n",
      "STOP: TOTAL NO. of ITERATIONS REACHED LIMIT.\n",
      "\n",
      "Increase the number of iterations (max_iter) or scale the data as shown in:\n",
      "    https://scikit-learn.org/stable/modules/preprocessing.html\n",
      "Please also refer to the documentation for alternative solver options:\n",
      "    https://scikit-learn.org/stable/modules/linear_model.html#logistic-regression\n",
      "  n_iter_i = _check_optimize_result(\n"
     ]
    },
    {
     "data": {
      "text/plain": [
       "0.8663101604278075"
      ]
     },
     "execution_count": 82,
     "metadata": {},
     "output_type": "execute_result"
    }
   ],
   "source": [
    "# Running the regression\n",
    "\n",
    "lr=LogisticRegression()\n",
    "lr.fit(X,y)\n",
    "\n",
    "lr.score(X,y)"
   ]
  },
  {
   "cell_type": "code",
   "execution_count": 83,
   "id": "50e04a5b",
   "metadata": {},
   "outputs": [
    {
     "name": "stdout",
     "output_type": "stream",
     "text": [
      "0.8692307692307693 \n",
      "\n",
      "            pred:yes  pred:no\n",
      "actual:yes        34       11\n",
      "actual:no          6       79 \n",
      "\n",
      "0.8596491228070176 \n",
      "\n",
      "            pred:yes  pred:no\n",
      "actual:yes        12        4\n",
      "actual:no          4       37\n"
     ]
    }
   ],
   "source": [
    "from sklearn.model_selection import train_test_split\n",
    "from sklearn import metrics\n",
    "\n",
    "#Splitting data into training and test sets\n",
    "X_train, X_test, y_train,y_test = train_test_split(X,y, test_size=.3, random_state=55)\n",
    "\n",
    "#Regression score for training set\n",
    "print(lr.score(X_train,y_train),'\\n')\n",
    "\n",
    "pred_train = lr.predict(X_train)\n",
    "\n",
    "#Confusion matrix for training set\n",
    "cmtx = pd.DataFrame(\n",
    "    metrics.confusion_matrix(y_train,pred_train),  \n",
    "    index=['actual:yes', 'actual:no'], \n",
    "    columns=['pred:yes', 'pred:no']\n",
    ")\n",
    "print(cmtx,'\\n')\n",
    "\n",
    "#Regression score for test set\n",
    "print(lr.score(X_test,y_test),'\\n')\n",
    "\n",
    "pred_test=lr.predict(X_test)\n",
    "\n",
    "#Confusion matrix for test set\n",
    "cmtx = pd.DataFrame(\n",
    "    metrics.confusion_matrix(y_test,pred_test),  \n",
    "    index=['actual:yes', 'actual:no'], \n",
    "    columns=['pred:yes', 'pred:no']\n",
    ")\n",
    "print(cmtx)"
   ]
  }
 ],
 "metadata": {
  "kernelspec": {
   "display_name": "Python 3 (ipykernel)",
   "language": "python",
   "name": "python3"
  },
  "language_info": {
   "codemirror_mode": {
    "name": "ipython",
    "version": 3
   },
   "file_extension": ".py",
   "mimetype": "text/x-python",
   "name": "python",
   "nbconvert_exporter": "python",
   "pygments_lexer": "ipython3",
   "version": "3.9.12"
  }
 },
 "nbformat": 4,
 "nbformat_minor": 5
}
